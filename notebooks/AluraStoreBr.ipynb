{
 "cells": [
  {
   "cell_type": "markdown",
   "metadata": {
    "id": "RhEdWd9YUR6H"
   },
   "source": [
    "### Importação dos dados\n",
    "\n"
   ]
  },
  {
   "cell_type": "code",
   "execution_count": 1,
   "metadata": {
    "colab": {
     "base_uri": "https://localhost:8080/",
     "height": 206
    },
    "id": "T3EvaeQ_INIL",
    "outputId": "7194bc65-372c-47e6-cb47-d4bfc9952c91"
   },
   "outputs": [
    {
     "data": {
      "text/html": [
       "<div>\n",
       "<style scoped>\n",
       "    .dataframe tbody tr th:only-of-type {\n",
       "        vertical-align: middle;\n",
       "    }\n",
       "\n",
       "    .dataframe tbody tr th {\n",
       "        vertical-align: top;\n",
       "    }\n",
       "\n",
       "    .dataframe thead th {\n",
       "        text-align: right;\n",
       "    }\n",
       "</style>\n",
       "<table border=\"1\" class=\"dataframe\">\n",
       "  <thead>\n",
       "    <tr style=\"text-align: right;\">\n",
       "      <th></th>\n",
       "      <th>Produto</th>\n",
       "      <th>Categoria do Produto</th>\n",
       "      <th>Preço</th>\n",
       "      <th>Frete</th>\n",
       "      <th>Data da Compra</th>\n",
       "      <th>Vendedor</th>\n",
       "      <th>Local da compra</th>\n",
       "      <th>Avaliação da compra</th>\n",
       "      <th>Tipo de pagamento</th>\n",
       "      <th>Quantidade de parcelas</th>\n",
       "      <th>lat</th>\n",
       "      <th>lon</th>\n",
       "    </tr>\n",
       "  </thead>\n",
       "  <tbody>\n",
       "    <tr>\n",
       "      <th>0</th>\n",
       "      <td>Assistente virtual</td>\n",
       "      <td>eletronicos</td>\n",
       "      <td>219.08</td>\n",
       "      <td>9.249790</td>\n",
       "      <td>16/01/2021</td>\n",
       "      <td>Pedro Gomes</td>\n",
       "      <td>SP</td>\n",
       "      <td>4</td>\n",
       "      <td>cartao_credito</td>\n",
       "      <td>8</td>\n",
       "      <td>-22.19</td>\n",
       "      <td>-48.79</td>\n",
       "    </tr>\n",
       "    <tr>\n",
       "      <th>1</th>\n",
       "      <td>Mesa de jantar</td>\n",
       "      <td>moveis</td>\n",
       "      <td>256.35</td>\n",
       "      <td>11.234305</td>\n",
       "      <td>18/05/2022</td>\n",
       "      <td>Beatriz Moraes</td>\n",
       "      <td>RJ</td>\n",
       "      <td>1</td>\n",
       "      <td>cartao_credito</td>\n",
       "      <td>4</td>\n",
       "      <td>-22.25</td>\n",
       "      <td>-42.66</td>\n",
       "    </tr>\n",
       "    <tr>\n",
       "      <th>2</th>\n",
       "      <td>Jogo de tabuleiro</td>\n",
       "      <td>brinquedos</td>\n",
       "      <td>279.51</td>\n",
       "      <td>21.262681</td>\n",
       "      <td>15/03/2021</td>\n",
       "      <td>João Souza</td>\n",
       "      <td>DF</td>\n",
       "      <td>1</td>\n",
       "      <td>cartao_credito</td>\n",
       "      <td>1</td>\n",
       "      <td>-15.83</td>\n",
       "      <td>-47.86</td>\n",
       "    </tr>\n",
       "    <tr>\n",
       "      <th>3</th>\n",
       "      <td>Micro-ondas</td>\n",
       "      <td>eletrodomesticos</td>\n",
       "      <td>1009.99</td>\n",
       "      <td>54.667344</td>\n",
       "      <td>03/05/2022</td>\n",
       "      <td>João Souza</td>\n",
       "      <td>RS</td>\n",
       "      <td>4</td>\n",
       "      <td>boleto</td>\n",
       "      <td>1</td>\n",
       "      <td>-30.17</td>\n",
       "      <td>-53.50</td>\n",
       "    </tr>\n",
       "    <tr>\n",
       "      <th>4</th>\n",
       "      <td>Cadeira de escritório</td>\n",
       "      <td>moveis</td>\n",
       "      <td>446.99</td>\n",
       "      <td>26.964689</td>\n",
       "      <td>07/11/2020</td>\n",
       "      <td>Larissa Alves</td>\n",
       "      <td>MG</td>\n",
       "      <td>5</td>\n",
       "      <td>boleto</td>\n",
       "      <td>1</td>\n",
       "      <td>-18.10</td>\n",
       "      <td>-44.38</td>\n",
       "    </tr>\n",
       "  </tbody>\n",
       "</table>\n",
       "</div>"
      ],
      "text/plain": [
       "                 Produto Categoria do Produto    Preço      Frete  \\\n",
       "0     Assistente virtual          eletronicos   219.08   9.249790   \n",
       "1         Mesa de jantar               moveis   256.35  11.234305   \n",
       "2      Jogo de tabuleiro           brinquedos   279.51  21.262681   \n",
       "3            Micro-ondas     eletrodomesticos  1009.99  54.667344   \n",
       "4  Cadeira de escritório               moveis   446.99  26.964689   \n",
       "\n",
       "  Data da Compra        Vendedor Local da compra  Avaliação da compra  \\\n",
       "0     16/01/2021     Pedro Gomes              SP                    4   \n",
       "1     18/05/2022  Beatriz Moraes              RJ                    1   \n",
       "2     15/03/2021      João Souza              DF                    1   \n",
       "3     03/05/2022      João Souza              RS                    4   \n",
       "4     07/11/2020   Larissa Alves              MG                    5   \n",
       "\n",
       "  Tipo de pagamento  Quantidade de parcelas    lat    lon  \n",
       "0    cartao_credito                       8 -22.19 -48.79  \n",
       "1    cartao_credito                       4 -22.25 -42.66  \n",
       "2    cartao_credito                       1 -15.83 -47.86  \n",
       "3            boleto                       1 -30.17 -53.50  \n",
       "4            boleto                       1 -18.10 -44.38  "
      ]
     },
     "execution_count": 1,
     "metadata": {},
     "output_type": "execute_result"
    }
   ],
   "source": [
    "import pandas as pd\n",
    "\n",
    "url = \"https://raw.githubusercontent.com/alura-es-cursos/challenge1-data-science/refs/heads/main/base-de-dados-challenge-1/loja_1.csv\"\n",
    "url2 = \"https://raw.githubusercontent.com/alura-es-cursos/challenge1-data-science/refs/heads/main/base-de-dados-challenge-1/loja_2.csv\"\n",
    "url3 = \"https://raw.githubusercontent.com/alura-es-cursos/challenge1-data-science/refs/heads/main/base-de-dados-challenge-1/loja_3.csv\"\n",
    "url4 = \"https://raw.githubusercontent.com/alura-es-cursos/challenge1-data-science/refs/heads/main/base-de-dados-challenge-1/loja_4.csv\"\n",
    "\n",
    "loja = pd.read_csv(url)\n",
    "loja2 = pd.read_csv(url2)\n",
    "loja3 = pd.read_csv(url3)\n",
    "loja4 = pd.read_csv(url4)\n",
    "\n",
    "loja.head()"
   ]
  },
  {
   "cell_type": "markdown",
   "metadata": {
    "id": "X62IW3KFUIYm"
   },
   "source": [
    "# 1. Análise do faturamento\n"
   ]
  },
  {
   "cell_type": "code",
   "execution_count": 4,
   "metadata": {},
   "outputs": [
    {
     "data": {
      "text/plain": [
       "Index(['Produto', 'Categoria do Produto', 'Preço', 'Frete', 'Data da Compra',\n",
       "       'Vendedor', 'Local da compra', 'Avaliação da compra',\n",
       "       'Tipo de pagamento', 'Quantidade de parcelas', 'lat', 'lon'],\n",
       "      dtype='object')"
      ]
     },
     "execution_count": 4,
     "metadata": {},
     "output_type": "execute_result"
    }
   ],
   "source": [
    "loja.columns"
   ]
  },
  {
   "cell_type": "code",
   "execution_count": 5,
   "metadata": {},
   "outputs": [
    {
     "name": "stdout",
     "output_type": "stream",
     "text": [
      "<class 'pandas.core.frame.DataFrame'>\n",
      "RangeIndex: 2359 entries, 0 to 2358\n",
      "Data columns (total 12 columns):\n",
      " #   Column                  Non-Null Count  Dtype  \n",
      "---  ------                  --------------  -----  \n",
      " 0   Produto                 2359 non-null   object \n",
      " 1   Categoria do Produto    2359 non-null   object \n",
      " 2   Preço                   2359 non-null   float64\n",
      " 3   Frete                   2359 non-null   float64\n",
      " 4   Data da Compra          2359 non-null   object \n",
      " 5   Vendedor                2359 non-null   object \n",
      " 6   Local da compra         2359 non-null   object \n",
      " 7   Avaliação da compra     2359 non-null   int64  \n",
      " 8   Tipo de pagamento       2359 non-null   object \n",
      " 9   Quantidade de parcelas  2359 non-null   int64  \n",
      " 10  lat                     2359 non-null   float64\n",
      " 11  lon                     2359 non-null   float64\n",
      "dtypes: float64(4), int64(2), object(6)\n",
      "memory usage: 221.3+ KB\n"
     ]
    }
   ],
   "source": [
    "loja.info()"
   ]
  },
  {
   "cell_type": "code",
   "execution_count": 7,
   "metadata": {},
   "outputs": [],
   "source": [
    "def faturamento_por_loja(df):\n",
    "    return sum([preco for preco in df['Preço']])"
   ]
  },
  {
   "cell_type": "code",
   "execution_count": 32,
   "metadata": {},
   "outputs": [
    {
     "name": "stdout",
     "output_type": "stream",
     "text": [
      "Faturamento das lojas 1, 2, 3, 4 é respectivamente: ['R$ 1,534,509.12', 'R$ 1,488,459.06', 'R$ 1,464,025.03', 'R$ 1,384,497.58']\n",
      "FAturamento TOTAL das 4 lojas: 5,871,490.79\n"
     ]
    }
   ],
   "source": [
    "lojas = [loja, loja2, loja3, loja4]\n",
    "faturamentos = [faturamento_por_loja(loja) for loja in lojas]\n",
    "print(f\"Faturamento das lojas 1, 2, 3, 4 é respectivamente: {[f'R$ {f:,.2f}' for f in faturamentos]}\")\n",
    "print(f\"FAturamento TOTAL das 4 lojas: {sum(faturamentos):,.2f}\")"
   ]
  },
  {
   "cell_type": "markdown",
   "metadata": {
    "id": "2V_vcAPzWZmR"
   },
   "source": [
    "# 2. Vendas por Categoria\n"
   ]
  },
  {
   "cell_type": "code",
   "execution_count": 42,
   "metadata": {
    "id": "A34YupIuYhfF"
   },
   "outputs": [
    {
     "data": {
      "text/plain": [
       "Categoria do Produto\n",
       "moveis                   465\n",
       "eletronicos              448\n",
       "brinquedos               324\n",
       "eletrodomesticos         312\n",
       "esporte e lazer          284\n",
       "instrumentos musicais    182\n",
       "livros                   173\n",
       "utilidades domesticas    171\n",
       "Name: count, dtype: int64"
      ]
     },
     "execution_count": 42,
     "metadata": {},
     "output_type": "execute_result"
    }
   ],
   "source": [
    "loja['Categoria do Produto'].sort_values().value_counts()"
   ]
  },
  {
   "cell_type": "code",
   "execution_count": 57,
   "metadata": {
    "id": "yZR6cOjXYSk1"
   },
   "outputs": [
    {
     "data": {
      "text/plain": [
       "Categoria do Produto\n",
       "moveis                   465\n",
       "eletronicos              448\n",
       "brinquedos               324\n",
       "eletrodomesticos         312\n",
       "esporte e lazer          284\n",
       "instrumentos musicais    182\n",
       "livros                   173\n",
       "utilidades domesticas    171\n",
       "dtype: int64"
      ]
     },
     "execution_count": 57,
     "metadata": {},
     "output_type": "execute_result"
    }
   ],
   "source": [
    "vendas_por_categoria = loja.groupby('Categoria do Produto').size().sort_values(ascending=False)\n",
    "vendas_por_categoria"
   ]
  },
  {
   "cell_type": "code",
   "execution_count": 76,
   "metadata": {},
   "outputs": [
    {
     "name": "stdout",
     "output_type": "stream",
     "text": [
      "********* loja #1 **********\n",
      "Categoria do Produto\n",
      "moveis                   465\n",
      "eletronicos              448\n",
      "brinquedos               324\n",
      "eletrodomesticos         312\n",
      "esporte e lazer          284\n",
      "instrumentos musicais    182\n",
      "livros                   173\n",
      "utilidades domesticas    171\n",
      "dtype: int64\n",
      "\n",
      "********* loja #2 **********\n",
      "Categoria do Produto\n",
      "moveis                   442\n",
      "eletronicos              422\n",
      "brinquedos               313\n",
      "eletrodomesticos         305\n",
      "esporte e lazer          275\n",
      "instrumentos musicais    224\n",
      "livros                   197\n",
      "utilidades domesticas    181\n",
      "dtype: int64\n",
      "\n",
      "********* loja #3 **********\n",
      "Categoria do Produto\n",
      "moveis                   499\n",
      "eletronicos              451\n",
      "brinquedos               315\n",
      "eletrodomesticos         278\n",
      "esporte e lazer          277\n",
      "livros                   185\n",
      "instrumentos musicais    177\n",
      "utilidades domesticas    177\n",
      "dtype: int64\n",
      "\n",
      "********* loja #4 **********\n",
      "Categoria do Produto\n",
      "moveis                   480\n",
      "eletronicos              451\n",
      "brinquedos               338\n",
      "esporte e lazer          277\n",
      "eletrodomesticos         254\n",
      "utilidades domesticas    201\n",
      "livros                   187\n",
      "instrumentos musicais    170\n",
      "dtype: int64\n",
      "\n"
     ]
    },
    {
     "data": {
      "text/plain": [
       "[None, None, None, None]"
      ]
     },
     "execution_count": 76,
     "metadata": {},
     "output_type": "execute_result"
    }
   ],
   "source": [
    "def vendas_por_categoria_loja(df):\n",
    "    return df.groupby('Categoria do Produto').size().sort_values(ascending=False)\n",
    "\n",
    "lojas = [loja, loja2, loja3, loja4]\n",
    "str_lojas= ['loja #1', 'loja #2', 'loja #3', 'loja #4']\n",
    "\n",
    "[print(f'********* {str_loja} **********\\n{vendas_por_categoria_loja(loja)}\\n') for loja, str_loja in zip(lojas, str_lojas)] "
   ]
  },
  {
   "cell_type": "markdown",
   "metadata": {
    "id": "Rq6tU_xSY3jk"
   },
   "source": [
    "# 3. Média de Avaliação das Lojas"
   ]
  },
  {
   "cell_type": "code",
   "execution_count": 83,
   "metadata": {
    "id": "bh3jjjJwY5MU"
   },
   "outputs": [
    {
     "data": {
      "text/plain": [
       "np.float64(3.976685036032217)"
      ]
     },
     "execution_count": 83,
     "metadata": {},
     "output_type": "execute_result"
    }
   ],
   "source": [
    "loja['Avaliação da compra'].mean()"
   ]
  },
  {
   "cell_type": "code",
   "execution_count": 84,
   "metadata": {
    "id": "I0KkjPoTY88F"
   },
   "outputs": [
    {
     "name": "stdout",
     "output_type": "stream",
     "text": [
      "Média de avaliação - Loja 1: 3.98\n",
      "Média de avaliação - Loja 2: 4.04\n",
      "Média de avaliação - Loja 3: 4.05\n",
      "Média de avaliação - Loja 4: 4.00\n"
     ]
    }
   ],
   "source": [
    "def media_avaliacao_loja(df):\n",
    "    return df['Avaliação da compra'].mean()\n",
    "\n",
    "nomes_lojas = ['Loja 1', 'Loja 2', 'Loja 3', 'Loja 4']\n",
    "\n",
    "for nome, df in zip(nomes_lojas, lojas):\n",
    "    media = media_avaliacao_loja(df)\n",
    "    print(f\"Média de avaliação - {nome}: {media:.2f}\")\n"
   ]
  },
  {
   "cell_type": "markdown",
   "metadata": {
    "id": "DmNp1KPBZCm-"
   },
   "source": [
    "# 4. Produtos Mais e Menos Vendidos"
   ]
  },
  {
   "cell_type": "code",
   "execution_count": 90,
   "metadata": {
    "id": "qoyjqijQZHfF"
   },
   "outputs": [
    {
     "data": {
      "text/plain": [
       "Produto\n",
       "Assistente virtual    40\n",
       "Bateria               53\n",
       "Bicicleta             54\n",
       "Blocos de montar      56\n",
       "Bola de basquete      55\n",
       "dtype: int64"
      ]
     },
     "execution_count": 90,
     "metadata": {},
     "output_type": "execute_result"
    }
   ],
   "source": [
    "loja.groupby('Produto').size().head(5)"
   ]
  },
  {
   "cell_type": "code",
   "execution_count": 89,
   "metadata": {
    "id": "0Sw3sd4IZIGW"
   },
   "outputs": [
    {
     "name": "stdout",
     "output_type": "stream",
     "text": [
      "\n",
      "===== Loja 1 =====\n",
      "Produtos mais vendidos (top 5):\n",
      "Produto\n",
      "TV Led UHD 4K         60\n",
      "Micro-ondas           60\n",
      "Guarda roupas         60\n",
      "Secadora de roupas    58\n",
      "Blocos de montar      56\n",
      "dtype: int64\n",
      "\n",
      "Produtos menos vendidos (top 5):\n",
      "Produto\n",
      "Ciência de dados com python    39\n",
      "Pandeiro                       36\n",
      "Panela de pressão              35\n",
      "Celular ABXY                   33\n",
      "Headset                        33\n",
      "dtype: int64\n",
      "\n",
      "\n",
      "===== Loja 2 =====\n",
      "Produtos mais vendidos (top 5):\n",
      "Produto\n",
      "Iniciando em programação    65\n",
      "Micro-ondas                 62\n",
      "Bateria                     61\n",
      "Violão                      58\n",
      "Pandeiro                    58\n",
      "dtype: int64\n",
      "\n",
      "Produtos menos vendidos (top 5):\n",
      "Produto\n",
      "Fone de ouvido       37\n",
      "Poltrona             35\n",
      "Impressora           34\n",
      "Mesa de jantar       34\n",
      "Jogo de tabuleiro    32\n",
      "dtype: int64\n",
      "\n",
      "\n",
      "===== Loja 3 =====\n",
      "Produtos mais vendidos (top 5):\n",
      "Produto\n",
      "Kit banquetas      57\n",
      "Mesa de jantar     56\n",
      "Cama king          56\n",
      "Cômoda             55\n",
      "Jogo de panelas    55\n",
      "dtype: int64\n",
      "\n",
      "Produtos menos vendidos (top 5):\n",
      "Produto\n",
      "Copo térmico        38\n",
      "Micro-ondas         36\n",
      "Jogo de copos       36\n",
      "Mochila             36\n",
      "Blocos de montar    35\n",
      "dtype: int64\n",
      "\n",
      "\n",
      "===== Loja 4 =====\n",
      "Produtos mais vendidos (top 5):\n",
      "Produto\n",
      "Cama box                   62\n",
      "Faqueiro                   59\n",
      "Cama king                  56\n",
      "Dashboards com Power BI    56\n",
      "Cômoda                     55\n",
      "dtype: int64\n",
      "\n",
      "Produtos menos vendidos (top 5):\n",
      "Produto\n",
      "Geladeira             38\n",
      "Lavadora de roupas    38\n",
      "Violão                37\n",
      "Guarda roupas         34\n",
      "Guitarra              33\n",
      "dtype: int64\n",
      "\n"
     ]
    }
   ],
   "source": [
    "def produtos_mais_e_menos_vendidos(df, top_n=5):\n",
    "    vendas = df.groupby('Produto').size().sort_values(ascending=False)\n",
    "    mais_vendidos = vendas.head(top_n)\n",
    "    menos_vendidos = vendas.tail(top_n)\n",
    "    return mais_vendidos, menos_vendidos\n",
    "\n",
    "nomes_lojas = ['Loja 1', 'Loja 2', 'Loja 3', 'Loja 4']\n",
    "\n",
    "for nome, df in zip(nomes_lojas, lojas):\n",
    "    mais, menos = produtos_mais_e_menos_vendidos(df)\n",
    "    print(f\"\\n===== {nome} =====\")\n",
    "    print(f\"Produtos mais vendidos (top 5):\\n{mais}\\n\")\n",
    "    print(f\"Produtos menos vendidos (top 5):\\n{menos}\\n\")\n"
   ]
  },
  {
   "cell_type": "markdown",
   "metadata": {
    "id": "Fl0cGi3bZKqU"
   },
   "source": [
    "# 5. Frete Médio por Loja\n"
   ]
  },
  {
   "cell_type": "code",
   "execution_count": 102,
   "metadata": {
    "id": "S2JeaCykZNy9"
   },
   "outputs": [
    {
     "name": "stdout",
     "output_type": "stream",
     "text": [
      "******** loja #1 **********\n",
      " Frete Médio R$ 34.69\n",
      "******** loja #2 **********\n",
      " Frete Médio R$ 33.62\n",
      "******** loja #3 **********\n",
      " Frete Médio R$ 33.07\n",
      "******** loja #4 **********\n",
      " Frete Médio R$ 31.28\n"
     ]
    }
   ],
   "source": [
    "for loja, str_loja in zip(lojas, str_lojas):\n",
    "    print(f\"******** {str_loja} **********\\n Frete Médio R$ {loja['Frete'].mean():.2f}\")"
   ]
  },
  {
   "cell_type": "code",
   "execution_count": 104,
   "metadata": {},
   "outputs": [
    {
     "data": {
      "image/png": "[encoded data removed]",
      "text/plain": [
       "<Figure size 800x500 with 1 Axes>"
      ]
     },
     "metadata": {},
     "output_type": "display_data"
    }
   ],
   "source": [
    "import matplotlib.pyplot as plt\n",
    "\n",
    "# 1. Faturamento total por loja (gráfico de barras)\n",
    "faturamentos = [faturamento_por_loja(df) for df in lojas]\n",
    "plt.figure(figsize=(8,5))\n",
    "plt.bar(str_lojas, faturamentos, color='skyblue')\n",
    "plt.title('Faturamento Total por Loja')\n",
    "plt.ylabel('Faturamento (R$)')\n",
    "plt.xlabel('Lojas')\n",
    "plt.xticks(rotation=45)\n",
    "plt.grid(axis='y', linestyle='--', alpha=0.7)\n",
    "plt.tight_layout()\n",
    "plt.show()"
   ]
  },
  {
   "cell_type": "code",
   "execution_count": 105,
   "metadata": {},
   "outputs": [
    {
     "data": {
      "image/png": "[encoded data removed]",
      "text/plain": [
       "<Figure size 700x700 with 1 Axes>"
      ]
     },
     "metadata": {},
     "output_type": "display_data"
    },
    {
     "data": {
      "image/png": "[encoded data removed]",
      "text/plain": [
       "<Figure size 800x500 with 1 Axes>"
      ]
     },
     "metadata": {},
     "output_type": "display_data"
    }
   ],
   "source": [
    "# 2. Distribuição das categorias mais vendidas (pizza)\n",
    "# Vamos pegar a loja 1 como exemplo, top 5 categorias\n",
    "top_categorias = vendas_por_categoria_loja(loja).head(5)\n",
    "plt.figure(figsize=(7,7))\n",
    "plt.pie(top_categorias, labels=top_categorias.index, autopct='%1.1f%%', startangle=140, colors=plt.cm.Paired.colors)\n",
    "plt.title('Distribuição das Top 5 Categorias - Loja 1')\n",
    "plt.tight_layout()\n",
    "plt.show()\n",
    "\n",
    "# 3. Média do frete por loja (barras horizontais)\n",
    "medias_frete = [df['Frete'].mean() for df in lojas]\n",
    "plt.figure(figsize=(8,5))\n",
    "plt.barh(str_lojas, medias_frete, color='lightgreen')\n",
    "plt.title('Média do Frete por Loja')\n",
    "plt.xlabel('Frete Médio (R$)')\n",
    "plt.ylabel('Lojas')\n",
    "plt.grid(axis='x', linestyle='--', alpha=0.7)\n",
    "plt.tight_layout()\n",
    "plt.show()"
   ]
  },
  {
   "cell_type": "code",
   "execution_count": null,
   "metadata": {},
   "outputs": [],
   "source": []
  },
  {
   "cell_type": "markdown",
   "metadata": {},
   "source": [
    "# Relatório Final - Análise das Lojas Alura Store\n",
    "\n",
    "## Introdução\n",
    "\n",
    "Este relatório tem o objetivo de apoiar o Senhor João na decisão de qual loja da rede Alura Store deve ser vendida, visando captar capital para investir em um novo negócio. Para isso, foram analisadas quatro lojas considerando o faturamento total, categorias de produtos, avaliações dos clientes, produtos mais e menos vendidos, além do custo médio do frete.\n",
    "\n",
    "## Desenvolvimento\n",
    "\n",
    "### 1. Faturamento Total\n",
    "\n",
    "O faturamento total das lojas foi comparado através de um gráfico de barras que mostra o desempenho financeiro de cada uma. Observamos que as lojas [inserir nomes, ex: Loja 1 e Loja 4] apresentaram os maiores faturamentos, enquanto a loja [inserir nome, ex: Loja 2] teve o faturamento mais baixo, indicando menor volume de vendas.\n",
    "\n",
    "*Gráfico 1: Faturamento total por loja*\n",
    "\n",
    "### 2. Categorias de Produtos Mais e Menos Vendidas\n",
    "\n",
    "A análise das categorias revelou que as categorias 'móveis' e 'eletrônicos' são as mais populares em todas as lojas, sendo responsáveis por grande parte das vendas. Já categorias como 'livros' e 'instrumentos musicais' tiveram menor movimentação.\n",
    "\n",
    "*Gráfico 2: Distribuição percentual das categorias mais vendidas (exemplo: top 5 da Loja 1)*\n",
    "\n",
    "### 3. Média das Avaliações dos Clientes\n",
    "\n",
    "As médias das avaliações indicaram que a satisfação dos clientes é relativamente alta em todas as lojas, mas a loja [inserir nome] apresentou a menor média, o que pode indicar oportunidades de melhoria na experiência de compra ou qualidade dos produtos.\n",
    "\n",
    "### 4. Produtos Mais e Menos Vendidos\n",
    "\n",
    "Os produtos mais vendidos se alinham com as categorias principais, reforçando o foco dos consumidores em móveis e eletrônicos. Produtos menos vendidos possuem maior variabilidade entre lojas, indicando nichos específicos que podem ser explorados ou descontinuados.\n",
    "\n",
    "### 5. Frete Médio\n",
    "\n",
    "O custo médio do frete foi comparado utilizando um gráfico de barras horizontais, destacando que algumas lojas têm custos mais elevados, impactando potencialmente a competitividade e satisfação do cliente.\n",
    "\n",
    "*Gráfico 3: Frete médio por loja*\n",
    "\n",
    "## Conclusão\n",
    "\n",
    "Considerando todas as métricas analisadas, recomendamos que o Senhor João venda a loja **[inserir nome da loja com pior desempenho geral]**. Essa loja apresenta:\n",
    "\n",
    "- Menor faturamento total, indicando menos vendas e receita.  \n",
    "- Categorias e produtos com menor volume, reduzindo o potencial de lucro.  \n",
    "- Média de avaliação abaixo das demais, sugerindo menor satisfação dos clientes.  \n",
    "- Frete médio mais alto, que pode influenciar negativamente a competitividade.\n",
    "\n",
    "Essa decisão estratégica permitirá que o capital obtido com a venda seja reinvestido em oportunidades mais promissoras, garantindo melhor retorno financeiro e alinhamento com o perfil de clientes da Alura Store.\n",
    "\n",
    "---\n",
    "\n",
    "Agradecemos a oportunidade de contribuir com uma decisão baseada em dados, reforçando a importância da análise quantitativa para o sucesso do negócio.\n",
    "\n"
   ]
  },
  {
   "cell_type": "code",
   "execution_count": null,
   "metadata": {},
   "outputs": [],
   "source": []
  }
 ],
 "metadata": {
  "colab": {
   "provenance": []
  },
  "kernelspec": {
   "display_name": "Python 3 (ipykernel)",
   "language": "python",
   "name": "python3"
  },
  "language_info": {
   "codemirror_mode": {
    "name": "ipython",
    "version": 3
   },
   "file_extension": ".py",
   "mimetype": "text/x-python",
   "name": "python",
   "nbconvert_exporter": "python",
   "pygments_lexer": "ipython3",
   "version": "3.10.18"
  }
 },
 "nbformat": 4,
 "nbformat_minor": 4
}
